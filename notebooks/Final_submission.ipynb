{
 "cells": [
  {
   "cell_type": "code",
   "execution_count": 1,
   "metadata": {},
   "outputs": [],
   "source": [
    "import math\n",
    "import pandas as pd\n",
    "from itertools import islice\n",
    "import numpy as np\n",
    "import lightgbm as lgb\n",
    "from sklearn.metrics import roc_auc_score\n",
    "from sklearn.model_selection import StratifiedKFold\n",
    "import seaborn as sns\n",
    "import logging\n",
    "from tqdm import tqdm\n",
    "import category_encoders\n",
    "from sklearn.model_selection import TimeSeriesSplit\n",
    "from sklearn.preprocessing import LabelEncoder, scale, MinMaxScaler, Normalizer, QuantileTransformer, PowerTransformer, StandardScaler\n",
    "from scipy.stats import boxcox\n",
    "import math\n",
    "from sklearn.preprocessing import KBinsDiscretizer\n",
    "from catboost import Pool, CatBoostClassifier\n",
    "\n",
    "pd.set_option('display.max_rows', 500)\n",
    "pd.set_option('display.max_columns', 500)\n",
    "pd.set_option('display.width', 1000)"
   ]
  },
  {
   "cell_type": "code",
   "execution_count": 2,
   "metadata": {},
   "outputs": [
    {
     "name": "stderr",
     "output_type": "stream",
     "text": [
      "100%|██████████| 200/200 [00:03<00:00, 51.94it/s]\n"
     ]
    }
   ],
   "source": [
    "test_path = '../data/test.csv'\n",
    "\n",
    "df_test = pd.read_csv(test_path)\n",
    "df_test.drop(['ID_code'], axis=1, inplace=True)\n",
    "df_test = df_test.values\n",
    "\n",
    "unique_samples = []\n",
    "unique_count = np.zeros_like(df_test)\n",
    "for feature in tqdm(range(df_test.shape[1])):\n",
    "    _, index_, count_ = np.unique(df_test[:, feature], return_counts=True, return_index=True)\n",
    "    unique_count[index_[count_ == 1], feature] += 1\n",
    "\n",
    "real_samples_indexes = np.argwhere(np.sum(unique_count, axis=1) > 0)[:, 0]\n",
    "synthetic_samples_indexes = np.argwhere(np.sum(unique_count, axis=1) == 0)[:, 0]\n",
    "\n",
    "del df_test"
   ]
  },
  {
   "cell_type": "code",
   "execution_count": 3,
   "metadata": {},
   "outputs": [
    {
     "name": "stderr",
     "output_type": "stream",
     "text": [
      "/home/artem/anaconda3/lib/python3.6/site-packages/pandas/core/frame.py:6211: FutureWarning: Sorting because non-concatenation axis is not aligned. A future version\n",
      "of pandas will change to not sort by default.\n",
      "\n",
      "To accept the future behavior, pass 'sort=False'.\n",
      "\n",
      "To retain the current behavior and silence the warning, pass 'sort=True'.\n",
      "\n",
      "  sort=sort)\n"
     ]
    }
   ],
   "source": [
    "train = pd.read_csv('../data/train.csv')\n",
    "test = pd.read_csv('../data/test.csv')\n",
    "\n",
    "test_real = test.iloc[real_samples_indexes]\n",
    "\n",
    "features = train.drop(['ID_code', 'target'], axis = 1).columns.tolist()\n",
    "\n",
    "data = train.append(test_real)"
   ]
  },
  {
   "cell_type": "code",
   "execution_count": 4,
   "metadata": {},
   "outputs": [
    {
     "name": "stdout",
     "output_type": "stream",
     "text": [
      "Fold 0\n"
     ]
    },
    {
     "name": "stderr",
     "output_type": "stream",
     "text": [
      "100%|██████████| 200/200 [00:21<00:00,  9.33it/s]\n"
     ]
    },
    {
     "name": "stdout",
     "output_type": "stream",
     "text": [
      "0:\tlearn: 0.5728201\ttest: 0.5700304\tbest: 0.5700304 (0)\ttotal: 12.3ms\tremaining: 14m 20s\n",
      "5000:\tlearn: 0.9240082\ttest: 0.9066963\tbest: 0.9066982 (4999)\ttotal: 41.3s\tremaining: 8m 56s\n",
      "10000:\tlearn: 0.9398253\ttest: 0.9137069\tbest: 0.9137069 (10000)\ttotal: 1m 25s\tremaining: 8m 30s\n",
      "15000:\tlearn: 0.9484921\ttest: 0.9158431\tbest: 0.9158431 (15000)\ttotal: 2m 8s\tremaining: 7m 51s\n",
      "20000:\tlearn: 0.9548300\ttest: 0.9168046\tbest: 0.9168074 (19996)\ttotal: 2m 52s\tremaining: 7m 10s\n",
      "25000:\tlearn: 0.9598748\ttest: 0.9173313\tbest: 0.9173395 (24929)\ttotal: 3m 33s\tremaining: 6m 24s\n",
      "30000:\tlearn: 0.9642778\ttest: 0.9176749\tbest: 0.9176757 (29989)\ttotal: 4m 14s\tremaining: 5m 38s\n",
      "35000:\tlearn: 0.9681751\ttest: 0.9179857\tbest: 0.9180108 (34582)\ttotal: 4m 55s\tremaining: 4m 55s\n",
      "40000:\tlearn: 0.9717056\ttest: 0.9181272\tbest: 0.9181358 (39144)\ttotal: 5m 37s\tremaining: 4m 12s\n",
      "45000:\tlearn: 0.9748630\ttest: 0.9183064\tbest: 0.9183152 (44872)\ttotal: 6m 19s\tremaining: 3m 30s\n",
      "50000:\tlearn: 0.9777284\ttest: 0.9183868\tbest: 0.9184026 (48767)\ttotal: 7m 2s\tremaining: 2m 48s\n",
      "55000:\tlearn: 0.9803586\ttest: 0.9184865\tbest: 0.9184921 (54914)\ttotal: 7m 44s\tremaining: 2m 6s\n",
      "60000:\tlearn: 0.9827378\ttest: 0.9184934\tbest: 0.9185386 (57132)\ttotal: 8m 28s\tremaining: 1m 24s\n",
      "65000:\tlearn: 0.9849340\ttest: 0.9184991\tbest: 0.9185386 (57132)\ttotal: 9m 12s\tremaining: 42.5s\n",
      "69999:\tlearn: 0.9868930\ttest: 0.9184595\tbest: 0.9185386 (57132)\ttotal: 9m 55s\tremaining: 0us\n",
      "bestTest = 0.9185385704\n",
      "bestIteration = 57132\n",
      "Shrink model to first 57133 iterations.\n",
      "  auc =  0.9185384464243912\n",
      "Fold 1\n"
     ]
    },
    {
     "name": "stderr",
     "output_type": "stream",
     "text": [
      "100%|██████████| 200/200 [00:19<00:00, 10.40it/s]\n"
     ]
    },
    {
     "name": "stdout",
     "output_type": "stream",
     "text": [
      "0:\tlearn: 0.5807576\ttest: 0.5756657\tbest: 0.5756657 (0)\ttotal: 9.93ms\tremaining: 11m 35s\n",
      "5000:\tlearn: 0.9235764\ttest: 0.9086463\tbest: 0.9086494 (4998)\ttotal: 43.7s\tremaining: 9m 28s\n",
      "10000:\tlearn: 0.9397349\ttest: 0.9150919\tbest: 0.9150919 (10000)\ttotal: 1m 29s\tremaining: 8m 54s\n",
      "15000:\tlearn: 0.9483761\ttest: 0.9166624\tbest: 0.9166624 (15000)\ttotal: 2m 10s\tremaining: 8m\n",
      "20000:\tlearn: 0.9546379\ttest: 0.9174297\tbest: 0.9174350 (19975)\ttotal: 2m 52s\tremaining: 7m 10s\n",
      "25000:\tlearn: 0.9597359\ttest: 0.9177300\tbest: 0.9177377 (24891)\ttotal: 3m 33s\tremaining: 6m 24s\n",
      "30000:\tlearn: 0.9640619\ttest: 0.9178941\tbest: 0.9178941 (30000)\ttotal: 4m 14s\tremaining: 5m 38s\n",
      "35000:\tlearn: 0.9678469\ttest: 0.9180148\tbest: 0.9180195 (34958)\ttotal: 4m 54s\tremaining: 4m 54s\n",
      "40000:\tlearn: 0.9712924\ttest: 0.9181183\tbest: 0.9181221 (39176)\ttotal: 5m 35s\tremaining: 4m 11s\n",
      "45000:\tlearn: 0.9744330\ttest: 0.9181766\tbest: 0.9181819 (44812)\ttotal: 6m 15s\tremaining: 3m 28s\n",
      "50000:\tlearn: 0.9772761\ttest: 0.9182482\tbest: 0.9182585 (48650)\ttotal: 6m 56s\tremaining: 2m 46s\n",
      "55000:\tlearn: 0.9798935\ttest: 0.9182623\tbest: 0.9182802 (52952)\ttotal: 7m 36s\tremaining: 2m 4s\n",
      "60000:\tlearn: 0.9822867\ttest: 0.9182460\tbest: 0.9182890 (58118)\ttotal: 8m 17s\tremaining: 1m 22s\n",
      "65000:\tlearn: 0.9844463\ttest: 0.9182453\tbest: 0.9182890 (58118)\ttotal: 8m 58s\tremaining: 41.4s\n",
      "69999:\tlearn: 0.9864527\ttest: 0.9181886\tbest: 0.9182890 (58118)\ttotal: 9m 38s\tremaining: 0us\n",
      "bestTest = 0.9182890058\n",
      "bestIteration = 58118\n",
      "Shrink model to first 58119 iterations.\n",
      "  auc =  0.9182889297156696\n",
      "Fold 2\n"
     ]
    },
    {
     "name": "stderr",
     "output_type": "stream",
     "text": [
      "100%|██████████| 200/200 [00:17<00:00, 11.12it/s]\n"
     ]
    },
    {
     "name": "stdout",
     "output_type": "stream",
     "text": [
      "0:\tlearn: 0.6017445\ttest: 0.5971054\tbest: 0.5971054 (0)\ttotal: 11.7ms\tremaining: 13m 38s\n",
      "5000:\tlearn: 0.9224392\ttest: 0.9125243\tbest: 0.9125243 (5000)\ttotal: 39.4s\tremaining: 8m 31s\n",
      "10000:\tlearn: 0.9383468\ttest: 0.9197622\tbest: 0.9197652 (9985)\ttotal: 1m 21s\tremaining: 8m 6s\n",
      "15000:\tlearn: 0.9470513\ttest: 0.9217533\tbest: 0.9217556 (14969)\ttotal: 2m 2s\tremaining: 7m 30s\n",
      "20000:\tlearn: 0.9533288\ttest: 0.9227132\tbest: 0.9227149 (19996)\ttotal: 2m 43s\tremaining: 6m 48s\n",
      "25000:\tlearn: 0.9585161\ttest: 0.9232219\tbest: 0.9232269 (24933)\ttotal: 3m 24s\tremaining: 6m 7s\n",
      "30000:\tlearn: 0.9629787\ttest: 0.9235570\tbest: 0.9235614 (29980)\ttotal: 4m 5s\tremaining: 5m 26s\n",
      "35000:\tlearn: 0.9669530\ttest: 0.9237791\tbest: 0.9237806 (34993)\ttotal: 4m 45s\tremaining: 4m 45s\n",
      "40000:\tlearn: 0.9704924\ttest: 0.9238660\tbest: 0.9238660 (40000)\ttotal: 5m 26s\tremaining: 4m 4s\n",
      "45000:\tlearn: 0.9737311\ttest: 0.9240093\tbest: 0.9240111 (44990)\ttotal: 6m 7s\tremaining: 3m 23s\n",
      "50000:\tlearn: 0.9767018\ttest: 0.9240926\tbest: 0.9240928 (49999)\ttotal: 6m 47s\tremaining: 2m 43s\n",
      "55000:\tlearn: 0.9793903\ttest: 0.9241014\tbest: 0.9241149 (53897)\ttotal: 7m 28s\tremaining: 2m 2s\n",
      "60000:\tlearn: 0.9817932\ttest: 0.9240970\tbest: 0.9241214 (58613)\ttotal: 8m 8s\tremaining: 1m 21s\n",
      "65000:\tlearn: 0.9840106\ttest: 0.9240704\tbest: 0.9241214 (58613)\ttotal: 8m 49s\tremaining: 40.7s\n",
      "69999:\tlearn: 0.9860492\ttest: 0.9240195\tbest: 0.9241214 (58613)\ttotal: 9m 30s\tremaining: 0us\n",
      "bestTest = 0.9241214097\n",
      "bestIteration = 58613\n",
      "Shrink model to first 58614 iterations.\n",
      "  auc =  0.9241212779902598\n",
      "Fold 3\n"
     ]
    },
    {
     "name": "stderr",
     "output_type": "stream",
     "text": [
      "100%|██████████| 200/200 [00:18<00:00, 10.60it/s]\n"
     ]
    },
    {
     "name": "stdout",
     "output_type": "stream",
     "text": [
      "0:\tlearn: 0.5848160\ttest: 0.5736620\tbest: 0.5736620 (0)\ttotal: 10.1ms\tremaining: 11m 49s\n",
      "5000:\tlearn: 0.9236907\ttest: 0.9052941\tbest: 0.9052952 (4999)\ttotal: 40s\tremaining: 8m 39s\n",
      "10000:\tlearn: 0.9394110\ttest: 0.9127966\tbest: 0.9127966 (10000)\ttotal: 1m 21s\tremaining: 8m 10s\n",
      "15000:\tlearn: 0.9479403\ttest: 0.9150627\tbest: 0.9150665 (14961)\ttotal: 2m 3s\tremaining: 7m 32s\n",
      "20000:\tlearn: 0.9541599\ttest: 0.9162026\tbest: 0.9162032 (19999)\ttotal: 2m 44s\tremaining: 6m 51s\n",
      "25000:\tlearn: 0.9592310\ttest: 0.9169162\tbest: 0.9169163 (24999)\ttotal: 3m 25s\tremaining: 6m 10s\n",
      "30000:\tlearn: 0.9635986\ttest: 0.9174040\tbest: 0.9174147 (29936)\ttotal: 4m 6s\tremaining: 5m 28s\n",
      "35000:\tlearn: 0.9676346\ttest: 0.9177527\tbest: 0.9177535 (34980)\ttotal: 4m 47s\tremaining: 4m 47s\n",
      "40000:\tlearn: 0.9711438\ttest: 0.9179799\tbest: 0.9179972 (39818)\ttotal: 5m 28s\tremaining: 4m 6s\n",
      "45000:\tlearn: 0.9743641\ttest: 0.9181210\tbest: 0.9181211 (44998)\ttotal: 6m 9s\tremaining: 3m 25s\n",
      "50000:\tlearn: 0.9772726\ttest: 0.9182158\tbest: 0.9182179 (49980)\ttotal: 6m 50s\tremaining: 2m 44s\n",
      "55000:\tlearn: 0.9799567\ttest: 0.9183391\tbest: 0.9183429 (54930)\ttotal: 7m 30s\tremaining: 2m 2s\n",
      "60000:\tlearn: 0.9823760\ttest: 0.9183830\tbest: 0.9184082 (58568)\ttotal: 8m 11s\tremaining: 1m 21s\n",
      "65000:\tlearn: 0.9845434\ttest: 0.9183754\tbest: 0.9184082 (58568)\ttotal: 8m 52s\tremaining: 41s\n",
      "69999:\tlearn: 0.9865667\ttest: 0.9184405\tbest: 0.9184445 (69841)\ttotal: 9m 33s\tremaining: 0us\n",
      "bestTest = 0.9184445143\n",
      "bestIteration = 69841\n",
      "Shrink model to first 69842 iterations.\n",
      "  auc =  0.918444399939642\n",
      "Fold 4\n"
     ]
    },
    {
     "name": "stderr",
     "output_type": "stream",
     "text": [
      "100%|██████████| 200/200 [00:18<00:00, 11.07it/s]\n"
     ]
    },
    {
     "name": "stdout",
     "output_type": "stream",
     "text": [
      "0:\tlearn: 0.5787821\ttest: 0.5719253\tbest: 0.5719253 (0)\ttotal: 10.3ms\tremaining: 11m 58s\n",
      "5000:\tlearn: 0.9243197\ttest: 0.9042088\tbest: 0.9042088 (5000)\ttotal: 40s\tremaining: 8m 39s\n",
      "10000:\tlearn: 0.9402627\ttest: 0.9122181\tbest: 0.9122181 (10000)\ttotal: 1m 22s\tremaining: 8m 12s\n",
      "15000:\tlearn: 0.9489300\ttest: 0.9144688\tbest: 0.9144688 (15000)\ttotal: 2m 3s\tremaining: 7m 33s\n",
      "20000:\tlearn: 0.9552233\ttest: 0.9155124\tbest: 0.9155124 (20000)\ttotal: 2m 45s\tremaining: 6m 53s\n",
      "25000:\tlearn: 0.9602112\ttest: 0.9160678\tbest: 0.9160678 (25000)\ttotal: 3m 26s\tremaining: 6m 11s\n",
      "30000:\tlearn: 0.9645241\ttest: 0.9164454\tbest: 0.9164455 (29999)\ttotal: 4m 7s\tremaining: 5m 29s\n",
      "35000:\tlearn: 0.9684306\ttest: 0.9167426\tbest: 0.9167433 (34987)\ttotal: 4m 48s\tremaining: 4m 48s\n",
      "40000:\tlearn: 0.9719731\ttest: 0.9169307\tbest: 0.9169307 (40000)\ttotal: 5m 29s\tremaining: 4m 6s\n",
      "45000:\tlearn: 0.9751093\ttest: 0.9170274\tbest: 0.9170300 (44981)\ttotal: 6m 9s\tremaining: 3m 25s\n",
      "50000:\tlearn: 0.9779670\ttest: 0.9171646\tbest: 0.9171658 (49854)\ttotal: 6m 50s\tremaining: 2m 44s\n",
      "55000:\tlearn: 0.9806275\ttest: 0.9172793\tbest: 0.9172859 (54733)\ttotal: 7m 31s\tremaining: 2m 3s\n",
      "60000:\tlearn: 0.9829882\ttest: 0.9173006\tbest: 0.9173109 (59843)\ttotal: 8m 12s\tremaining: 1m 22s\n",
      "65000:\tlearn: 0.9851128\ttest: 0.9173408\tbest: 0.9173413 (64996)\ttotal: 8m 53s\tremaining: 41s\n",
      "69999:\tlearn: 0.9870527\ttest: 0.9173794\tbest: 0.9173991 (67519)\ttotal: 9m 33s\tremaining: 0us\n",
      "bestTest = 0.9173991084\n",
      "bestIteration = 67519\n",
      "Shrink model to first 67520 iterations.\n",
      "  auc =  0.9173990872427676\n",
      "CV score: 0.91932 \n"
     ]
    }
   ],
   "source": [
    "num_round = 1000000\n",
    "folds = StratifiedKFold(n_splits=5, shuffle=True, random_state=42)\n",
    "oof = np.zeros(len(train))\n",
    "predictions = np.zeros(len(test))\n",
    "\n",
    "model = CatBoostClassifier(loss_function=\"Logloss\",\n",
    "                           eval_metric=\"AUC\",\n",
    "                           task_type=\"GPU\",\n",
    "                           learning_rate=0.01,\n",
    "                           iterations=70000,\n",
    "                           l2_leaf_reg=50,\n",
    "                           random_seed=42,\n",
    "                           od_type=\"Iter\",\n",
    "                           depth=5,\n",
    "                           early_stopping_rounds=15000,\n",
    "                           border_count=64\n",
    "                          )\n",
    "\n",
    "for fold_, (trn_idx, val_idx) in enumerate(folds.split(train.values, train.target.values)):\n",
    "    print(\"Fold {}\".format(fold_))\n",
    "    X_train, y_train = train.iloc[trn_idx][features], train.iloc[trn_idx]['target']\n",
    "    X_valid, y_valid = train.iloc[val_idx][features], train.iloc[val_idx]['target']\n",
    "    \n",
    "    for col in tqdm(features):\n",
    "        gr = data[col].value_counts()\n",
    "        gr_bin = data.groupby(col)[col].count()>1\n",
    "        \n",
    "        X_train[col + '_un'] = X_train[col].map(gr).astype('category').cat.codes\n",
    "        X_valid[col + '_un'] = X_valid[col].map(gr).astype('category').cat.codes\n",
    "        test[col + '_un'] = test[col].map(gr).astype('category').cat.codes\n",
    "        \n",
    "        X_train[col + '_un_bin'] = X_train[col].map(gr_bin).astype('category').cat.codes\n",
    "        X_valid[col + '_un_bin'] = X_valid[col].map(gr_bin).astype('category').cat.codes\n",
    "        test[col + '_un_bin'] = test[col].map(gr_bin).astype('category').cat.codes\n",
    "        \n",
    "        X_train[col + '_raw_mul'] = X_train[col] * X_train[col + '_un_bin']\n",
    "        X_valid[col + '_raw_mul'] = X_valid[col] * X_valid[col + '_un_bin']\n",
    "        test[col + '_raw_mul'] = test[col] * test[col + '_un_bin']\n",
    "        \n",
    "        X_train[col + '_raw_mul_2'] = X_train[col] * X_train[col + '_un']\n",
    "        X_valid[col + '_raw_mul_2'] = X_valid[col] * X_valid[col + '_un']\n",
    "        test[col + '_raw_mul_2'] = test[col] * test[col + '_un']\n",
    "        \n",
    "        X_train[col + '_raw_mul_3'] = X_train[col + '_un_bin'] * X_train[col + '_un']\n",
    "        X_valid[col + '_raw_mul_3'] = X_valid[col + '_un_bin'] * X_valid[col + '_un']\n",
    "        test[col + '_raw_mul_3'] = test[col + '_un_bin'] * test[col + '_un']\n",
    "\n",
    "\n",
    "    _train = Pool(X_train, label=y_train)\n",
    "    _valid = Pool(X_valid, label=y_valid)\n",
    "    clf = model.fit(_train,\n",
    "                    eval_set=_valid,\n",
    "                    use_best_model=True,\n",
    "                    verbose=5000)\n",
    "    pred = clf.predict_proba(X_valid)[:,1]\n",
    "    oof[val_idx] = pred\n",
    "    print( \"  auc = \", roc_auc_score(y_valid, pred) )\n",
    "    predictions += clf.predict_proba(test.drop('ID_code', axis=1))[:,1] / folds.n_splits\n",
    "print(\"CV score: {:<8.5f}\".format(roc_auc_score(train.target, oof)))"
   ]
  },
  {
   "cell_type": "code",
   "execution_count": 5,
   "metadata": {},
   "outputs": [],
   "source": [
    "sub = pd.DataFrame({\"ID_code\": test.ID_code.values})\n",
    "sub[\"target\"] = predictions\n",
    "sub.to_csv(\"Range_bins_sub_3.csv\", index=False)"
   ]
  },
  {
   "cell_type": "code",
   "execution_count": 6,
   "metadata": {},
   "outputs": [
    {
     "data": {
      "text/html": [
       "<div>\n",
       "<style scoped>\n",
       "    .dataframe tbody tr th:only-of-type {\n",
       "        vertical-align: middle;\n",
       "    }\n",
       "\n",
       "    .dataframe tbody tr th {\n",
       "        vertical-align: top;\n",
       "    }\n",
       "\n",
       "    .dataframe thead th {\n",
       "        text-align: right;\n",
       "    }\n",
       "</style>\n",
       "<table border=\"1\" class=\"dataframe\">\n",
       "  <thead>\n",
       "    <tr style=\"text-align: right;\">\n",
       "      <th></th>\n",
       "      <th>ID_code</th>\n",
       "      <th>target</th>\n",
       "    </tr>\n",
       "  </thead>\n",
       "  <tbody>\n",
       "    <tr>\n",
       "      <th>0</th>\n",
       "      <td>test_0</td>\n",
       "      <td>0.048730</td>\n",
       "    </tr>\n",
       "    <tr>\n",
       "      <th>1</th>\n",
       "      <td>test_1</td>\n",
       "      <td>0.180953</td>\n",
       "    </tr>\n",
       "    <tr>\n",
       "      <th>2</th>\n",
       "      <td>test_2</td>\n",
       "      <td>0.262334</td>\n",
       "    </tr>\n",
       "    <tr>\n",
       "      <th>3</th>\n",
       "      <td>test_3</td>\n",
       "      <td>0.161932</td>\n",
       "    </tr>\n",
       "    <tr>\n",
       "      <th>4</th>\n",
       "      <td>test_4</td>\n",
       "      <td>0.054634</td>\n",
       "    </tr>\n",
       "  </tbody>\n",
       "</table>\n",
       "</div>"
      ],
      "text/plain": [
       "  ID_code    target\n",
       "0  test_0  0.048730\n",
       "1  test_1  0.180953\n",
       "2  test_2  0.262334\n",
       "3  test_3  0.161932\n",
       "4  test_4  0.054634"
      ]
     },
     "execution_count": 6,
     "metadata": {},
     "output_type": "execute_result"
    }
   ],
   "source": [
    "sub.head()"
   ]
  }
 ],
 "metadata": {
  "kernelspec": {
   "display_name": "Python 3",
   "language": "python",
   "name": "python3"
  },
  "language_info": {
   "codemirror_mode": {
    "name": "ipython",
    "version": 3
   },
   "file_extension": ".py",
   "mimetype": "text/x-python",
   "name": "python",
   "nbconvert_exporter": "python",
   "pygments_lexer": "ipython3",
   "version": "3.6.5"
  }
 },
 "nbformat": 4,
 "nbformat_minor": 2
}
