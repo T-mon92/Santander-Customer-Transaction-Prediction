{
 "cells": [
  {
   "cell_type": "code",
   "execution_count": null,
   "metadata": {},
   "outputs": [],
   "source": [
    "import math\n",
    "import pandas as pd\n",
    "from itertools import islice\n",
    "import numpy as np\n",
    "import lightgbm as lgb\n",
    "from sklearn.metrics import roc_auc_score\n",
    "from sklearn.model_selection import StratifiedKFold\n",
    "import seaborn as sns\n",
    "import logging\n",
    "from tqdm import tqdm\n",
    "import category_encoders\n",
    "from sklearn.model_selection import TimeSeriesSplit\n",
    "from sklearn.preprocessing import LabelEncoder, scale, MinMaxScaler, Normalizer, QuantileTransformer, PowerTransformer, StandardScaler\n",
    "from scipy.stats import boxcox\n",
    "import math\n",
    "from sklearn.preprocessing import KBinsDiscretizer\n",
    "from catboost import Pool, CatBoostClassifier\n",
    "\n",
    "pd.set_option('display.max_rows', 500)\n",
    "pd.set_option('display.max_columns', 500)\n",
    "pd.set_option('display.width', 1000)"
   ]
  },
  {
   "cell_type": "code",
   "execution_count": null,
   "metadata": {},
   "outputs": [],
   "source": [
    "test_path = '../data/test.csv'\n",
    "\n",
    "df_test = pd.read_csv(test_path)\n",
    "df_test.drop(['ID_code'], axis=1, inplace=True)\n",
    "df_test = df_test.values\n",
    "\n",
    "unique_samples = []\n",
    "unique_count = np.zeros_like(df_test)\n",
    "for feature in tqdm(range(df_test.shape[1])):\n",
    "    _, index_, count_ = np.unique(df_test[:, feature], return_counts=True, return_index=True)\n",
    "    unique_count[index_[count_ == 1], feature] += 1\n",
    "\n",
    "real_samples_indexes = np.argwhere(np.sum(unique_count, axis=1) > 0)[:, 0]\n",
    "synthetic_samples_indexes = np.argwhere(np.sum(unique_count, axis=1) == 0)[:, 0]\n",
    "\n",
    "del df_test"
   ]
  },
  {
   "cell_type": "code",
   "execution_count": null,
   "metadata": {},
   "outputs": [],
   "source": [
    "train = pd.read_csv('../data/train.csv')\n",
    "test = pd.read_csv('../data/test.csv')\n",
    "\n",
    "test_real = test.iloc[real_samples_indexes]\n",
    "\n",
    "features = train.drop(['ID_code', 'target'], axis = 1).columns.tolist()\n",
    "\n",
    "data = train.append(test_real)"
   ]
  },
  {
   "cell_type": "code",
   "execution_count": null,
   "metadata": {},
   "outputs": [],
   "source": [
    "num_round = 1000000\n",
    "folds = StratifiedKFold(n_splits=5, shuffle=True, random_state=42)\n",
    "oof = np.zeros(len(train))\n",
    "predictions = np.zeros(len(test))\n",
    "\n",
    "model = CatBoostClassifier(loss_function=\"Logloss\",\n",
    "                           eval_metric=\"AUC\",\n",
    "                           task_type=\"GPU\",\n",
    "                           learning_rate=0.01,\n",
    "                           iterations=70000,\n",
    "                           l2_leaf_reg=50,\n",
    "                           random_seed=42,\n",
    "                           od_type=\"Iter\",\n",
    "                           depth=5,\n",
    "                           early_stopping_rounds=15000,\n",
    "                           border_count=64\n",
    "                          )\n",
    "\n",
    "for fold_, (trn_idx, val_idx) in enumerate(folds.split(train.values, train.target.values)):\n",
    "    print(\"Fold {}\".format(fold_))\n",
    "    X_train, y_train = train.iloc[trn_idx][features], train.iloc[trn_idx]['target']\n",
    "    X_valid, y_valid = train.iloc[val_idx][features], train.iloc[val_idx]['target']\n",
    "    \n",
    "    for col in tqdm(features):\n",
    "        gr = data[col].value_counts()\n",
    "        gr_bin = data.groupby(col)[col].count()>1\n",
    "        \n",
    "        X_train[col + '_un'] = X_train[col].map(gr).astype('category').cat.codes\n",
    "        X_valid[col + '_un'] = X_valid[col].map(gr).astype('category').cat.codes\n",
    "        test[col + '_un'] = test[col].map(gr).astype('category').cat.codes\n",
    "        \n",
    "        X_train[col + '_un_bin'] = X_train[col].map(gr_bin).astype('category').cat.codes\n",
    "        X_valid[col + '_un_bin'] = X_valid[col].map(gr_bin).astype('category').cat.codes\n",
    "        test[col + '_un_bin'] = test[col].map(gr_bin).astype('category').cat.codes\n",
    "        \n",
    "        X_train[col + '_raw_mul'] = X_train[col] * X_train[col + '_un_bin']\n",
    "        X_valid[col + '_raw_mul'] = X_valid[col] * X_valid[col + '_un_bin']\n",
    "        test[col + '_raw_mul'] = test[col] * test[col + '_un_bin']\n",
    "        \n",
    "        X_train[col + '_raw_mul_2'] = X_train[col] * X_train[col + '_un']\n",
    "        X_valid[col + '_raw_mul_2'] = X_valid[col] * X_valid[col + '_un']\n",
    "        test[col + '_raw_mul_2'] = test[col] * test[col + '_un']\n",
    "        \n",
    "        X_train[col + '_raw_mul_3'] = X_train[col + '_un_bin'] * X_train[col + '_un']\n",
    "        X_valid[col + '_raw_mul_3'] = X_valid[col + '_un_bin'] * X_valid[col + '_un']\n",
    "        test[col + '_raw_mul_3'] = test[col + '_un_bin'] * test[col + '_un']\n",
    "\n",
    "\n",
    "    _train = Pool(X_train, label=y_train)\n",
    "    _valid = Pool(X_valid, label=y_valid)\n",
    "    clf = model.fit(_train,\n",
    "                    eval_set=_valid,\n",
    "                    use_best_model=True,\n",
    "                    verbose=5000)\n",
    "    pred = clf.predict_proba(X_valid)[:,1]\n",
    "    oof[val_idx] = pred\n",
    "    print( \"  auc = \", roc_auc_score(y_valid, pred) )\n",
    "    predictions += clf.predict_proba(test.drop('ID_code', axis=1))[:,1] / folds.n_splits\n",
    "print(\"CV score: {:<8.5f}\".format(roc_auc_score(train.target, oof)))"
   ]
  },
  {
   "cell_type": "code",
   "execution_count": null,
   "metadata": {},
   "outputs": [],
   "source": [
    "sub = pd.DataFrame({\"ID_code\": test.ID_code.values})\n",
    "sub[\"target\"] = predictions\n",
    "sub.to_csv(\"Range_bins_sub_3.csv\", index=False)"
   ]
  },
  {
   "cell_type": "code",
   "execution_count": null,
   "metadata": {},
   "outputs": [],
   "source": [
    "sub.head()"
   ]
  }
 ],
 "metadata": {
  "kernelspec": {
   "display_name": "Python 3",
   "language": "python",
   "name": "python3"
  },
  "language_info": {
   "codemirror_mode": {
    "name": "ipython",
    "version": 3
   },
   "file_extension": ".py",
   "mimetype": "text/x-python",
   "name": "python",
   "nbconvert_exporter": "python",
   "pygments_lexer": "ipython3",
   "version": "3.6.5"
  }
 },
 "nbformat": 4,
 "nbformat_minor": 2
}
